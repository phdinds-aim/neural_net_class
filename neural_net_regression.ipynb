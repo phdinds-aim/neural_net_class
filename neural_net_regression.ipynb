{
 "cells": [
  {
   "cell_type": "markdown",
   "metadata": {},
   "source": [
    "# Neural Network Analysis"
   ]
  },
  {
   "cell_type": "code",
   "execution_count": 29,
   "metadata": {},
   "outputs": [
    {
     "name": "stdout",
     "output_type": "stream",
     "text": [
      "Requirement already satisfied: jdc in /Users/prince.javier/opt/anaconda3/envs/smart_resu/lib/python3.8/site-packages (0.0.9)\r\n"
     ]
    }
   ],
   "source": [
    "!pip install jdc\n",
    "import jdc\n",
    "import pandas as pd\n",
    "import numpy as np\n",
    "import matplotlib.pyplot as plt\n",
    "from collections import defaultdict\n",
    "from pprint import pprint\n",
    "from sklearn.metrics import r2_score"
   ]
  },
  {
   "cell_type": "markdown",
   "metadata": {},
   "source": [
    "## Define Class"
   ]
  },
  {
   "cell_type": "code",
   "execution_count": 3,
   "metadata": {},
   "outputs": [],
   "source": [
    "# activation functions\n",
    "def sigmoid(x=0, deriv=False):\n",
    "    sigmoid=1/(1+np.exp(-x))\n",
    "    if(deriv==True):\n",
    "        return sigmoid*(1-sigmoid)\n",
    "    return sigmoid\n",
    "\n",
    "def sin(x=0, deriv=False):\n",
    "    if(deriv==True):\n",
    "        return np.cos(x)\n",
    "    return np.sin(x)\n",
    "\n",
    "def linear(x=0, deriv=False):\n",
    "    if(deriv==True):\n",
    "        return 1\n",
    "    return x"
   ]
  },
  {
   "cell_type": "code",
   "execution_count": 4,
   "metadata": {},
   "outputs": [],
   "source": [
    "class neural_net:    \n",
    "    def __init__(self):\n",
    "        # inputs\n",
    "        self.nodes_tracker = defaultdict() # tracks {layer_num: num_nodes}\n",
    "        self.act_tracker = defaultdict() # tracks {layer_num: activation_function}\n",
    "        self.lr_tracker = defaultdict() # tracks {layer_num: gamma/learning_rate}  \n",
    "        self.weights = defaultdict() # tracks weights from previous layer to next {prev_layer: weights to next layer}              \n",
    "        \n",
    "        # training\n",
    "        self.feed_fwd_tracker = defaultdict() # tracks feed forward {layer_num:feed_forward values}\n",
    "        self.delta_tracker = defaultdict() # tracks delta for weight updates {layer_num:delta values}        \n",
    "        \n",
    "        # others\n",
    "        self.layer_num = 0 # +1 for every hidden layer added\n",
    "        self.act_func_list = {'sin':sin, 'sigmoid':sigmoid, 'linear':linear} # activation functions\n",
    "        self.errors = []\n",
    "        self.metric = []"
   ]
  },
  {
   "cell_type": "code",
   "execution_count": 5,
   "metadata": {},
   "outputs": [],
   "source": [
    "%%add_to neural_net\n",
    "def add_input_layer(self, num_inputs):\n",
    "    self.nodes_tracker[f'layer_{self.layer_num}'] = num_inputs\n",
    "    self.layer_num += 1 # for next hidden layer    \n",
    "\n",
    "def add_layer(self, num_nodes, activation='sigmoid', learning_rate=0.01): # has bugs for > 2 hidden layers\n",
    "    self.nodes_tracker[f'layer_{self.layer_num}'] = num_nodes\n",
    "    self.act_tracker[f'layer_{self.layer_num}'] = self.act_func_list[activation]    \n",
    "    self.lr_tracker[f'layer_{self.layer_num}'] = learning_rate\n",
    "    self.layer_num += 1 # for next hidden layer    "
   ]
  },
  {
   "cell_type": "code",
   "execution_count": 6,
   "metadata": {},
   "outputs": [],
   "source": [
    "%%add_to neural_net\n",
    "# can implement xavier-glorot later\n",
    "def init_weights(self):    \n",
    "    '''initialize weights'''\n",
    "    \n",
    "    self.num_layers = len(self.nodes_tracker.keys())    \n",
    "    for i in range(self.num_layers-1):\n",
    "        np.random.seed(i)\n",
    "        prev_layer = f'layer_{i}'\n",
    "        next_layer = f'layer_{i+1}'\n",
    "        self.weights[prev_layer] = 2*np.random.random((self.nodes_tracker[prev_layer],self.nodes_tracker[next_layer])) - 1\n",
    "    "
   ]
  },
  {
   "cell_type": "code",
   "execution_count": 7,
   "metadata": {},
   "outputs": [],
   "source": [
    "%%add_to neural_net\n",
    "def feed_forward(self):\n",
    "    # Feed forward through layers 0, 1, and 2    \n",
    "    # initialize with training data\n",
    "\n",
    "    # Template:\n",
    "    # layer0 = X\n",
    "    # layer1 = nonlin(np.dot(layer0,w0))  \n",
    "    \n",
    "    self.feed_fwd_tracker['layer_0'] = self.X_train # input from fit function\n",
    "    \n",
    "    for i in range(0, self.num_layers-1):\n",
    "        prev_layer = f'layer_{i}'\n",
    "        next_layer = f'layer_{i+1}'       \n",
    "        \n",
    "        prev_next_vals = np.dot(self.feed_fwd_tracker[prev_layer], self.weights[prev_layer])        \n",
    "        self.feed_fwd_tracker[next_layer] = self.act_tracker[next_layer](prev_next_vals)"
   ]
  },
  {
   "cell_type": "code",
   "execution_count": 8,
   "metadata": {},
   "outputs": [],
   "source": [
    "%%add_to neural_net\n",
    "def predict(self, X):\n",
    "    # Feed forward through layers 0, 1, and 2    \n",
    "    # initialize with training data\n",
    "\n",
    "    # Template:\n",
    "    # layer0 = X\n",
    "    # layer1 = nonlin(np.dot(layer0,w0))  \n",
    "    \n",
    "    feed_fwd_tracker_predict = {k:v for k, v in self.feed_fwd_tracker.items()}\n",
    "    feed_fwd_tracker_predict['layer_0'] = X # input from fit function\n",
    "    \n",
    "    for i in range(0, self.num_layers-1):\n",
    "        prev_layer = f'layer_{i}'\n",
    "        next_layer = f'layer_{i+1}'       \n",
    "        \n",
    "        prev_next_vals = np.dot(feed_fwd_tracker_predict[prev_layer], self.weights[prev_layer])        \n",
    "        feed_fwd_tracker_predict[next_layer] = self.act_tracker[next_layer](prev_next_vals)\n",
    "    \n",
    "    return feed_fwd_tracker_predict[next_layer]"
   ]
  },
  {
   "cell_type": "code",
   "execution_count": 9,
   "metadata": {},
   "outputs": [],
   "source": [
    "%%add_to neural_net\n",
    "def backprop(self):\n",
    "    \n",
    "    # get delta from last layer    \n",
    "    # Template: layer3_delta = layer3_error*nonlin(np.dot(layer2,w2),deriv=True)\n",
    "    last_layer_name = f'layer_{self.layer_num-1}' # e.g. 4th layer is layer_3\n",
    "    prev_layer_name = f'layer_{self.layer_num-2}' # e.g. 3rd layer is layer_2\n",
    "    \n",
    "    last_layer_ff = self.feed_fwd_tracker[last_layer_name] \n",
    "    prev_layer_ff = self.feed_fwd_tracker[prev_layer_name]    \n",
    "    prev_layer_weights = self.weights[prev_layer_name]        \n",
    "\n",
    "    dot_val = np.dot(prev_layer_ff, prev_layer_weights)    \n",
    "    self.delta_tracker[last_layer_name] = self.error * self.act_tracker[last_layer_name](dot_val, deriv=True)\n",
    "    \n",
    "    # propagate gradients the previous layers\n",
    "    # Template: layer2_delta = layer3_delta.dot(w2.T)*nonlin(np.dot(layer1,w1),deriv=True)    \n",
    "    for i in np.arange(self.num_layers-1, 1, -1):\n",
    "        next_layer_name = f'layer_{i}' # e.g. layer 3     \n",
    "        current_layer_name = f'layer_{i-1}' # e.g. layer 2\n",
    "        prev_layer_name = f'layer_{i-2}' # e.g. layer 1\n",
    "        \n",
    "        next_layer_ff = self.feed_fwd_tracker[next_layer_name] \n",
    "        current_layer_ff = self.feed_fwd_tracker[current_layer_name]    \n",
    "        current_layer_weights = self.weights[current_layer_name]\n",
    "        \n",
    "        prev_layer_ff = self.feed_fwd_tracker[prev_layer_name]    \n",
    "        prev_layer_weights = self.weights[prev_layer_name]        \n",
    "                \n",
    "        part_a = self.delta_tracker[next_layer_name].dot(current_layer_weights.T)\n",
    "        part_b = np.dot(prev_layer_ff, prev_layer_weights)    \n",
    "        part_c = self.act_tracker[current_layer_name](part_b, deriv=True)\n",
    "        self.delta_tracker[current_layer_name] = part_a * part_c\n",
    "        \n",
    "    # update weights\n",
    "    # Template: w2 += gamma2*layer2.T.dot(layer3_delta)\n",
    "    for i in range(self.layer_num-1):\n",
    "        \n",
    "        # we want to update weights from next layer to next {prev_layer: weight to next}\n",
    "        \n",
    "        next_layer_name = f'layer_{i+1}' # e.g. layer 3     \n",
    "        current_layer_name = f'layer_{i}' # e.g. layer 2\n",
    "        \n",
    "        gamma = self.lr_tracker[next_layer_name] # learning rate to next layer\n",
    "        current_layer_ff = self.feed_fwd_tracker[current_layer_name] # feed forward value  \n",
    "        next_layer_delta = self.delta_tracker[next_layer_name] # delta from next layer\n",
    "        \n",
    "        self.weights[current_layer_name] += gamma * current_layer_ff.T.dot(next_layer_delta)        "
   ]
  },
  {
   "cell_type": "code",
   "execution_count": null,
   "metadata": {},
   "outputs": [],
   "source": [
    "%%add_to neural_net\n",
    "def fit(self, X_train, y_train, X_valid, y_valid, train_iter, metric='r2', verbose=False):\n",
    "    self.X_train = X_train\n",
    "    self.y_train = y_train \n",
    "    self.X_valid = X_valid\n",
    "    self.y_valid = y_valid\n",
    "    \n",
    "    # last_layer name\n",
    "    self.last_layer = f'layer_{len(self.nodes_tracker.keys())-1}'\n",
    "    \n",
    "    # initialize weights\n",
    "    self.init_weights()\n",
    "    for i in range(train_iter):\n",
    "        # feed forward\n",
    "        self.feed_forward()\n",
    "        \n",
    "        # Error Function\n",
    "        # self.error = self.y_train - self.feed_fwd_tracker[self.last_layer]\n",
    "        self.error = self.y_train - self.predict(self.X_train)\n",
    "        \n",
    "        if (i%train_iter//20) == 0:   \n",
    "            error_ = np.mean(np.abs(self.error))\n",
    "            self.errors.append(error_)                                           \n",
    "                    \n",
    "            # accuracy on validation set\n",
    "            if metric=='r2':\n",
    "                y_pred = nn.predict(self.X_valid).flatten()\n",
    "                metric_ = r2_score(y_pred, self.y_valid)\n",
    "                self.metric.append(metric_) \n",
    "                \n",
    "            if verbose: # reporting has a bug  \n",
    "                print (\"Train Error =\", error_, \"valid metric =\", metric_)    \n",
    "                                                                      \n",
    "                \n",
    "        # backprop\n",
    "        self.backprop()\n",
    "    "
   ]
  },
  {
   "cell_type": "markdown",
   "metadata": {},
   "source": [
    "## Train"
   ]
  },
  {
   "cell_type": "code",
   "execution_count": 16,
   "metadata": {},
   "outputs": [],
   "source": [
    "# !pip install openpyxl"
   ]
  },
  {
   "cell_type": "code",
   "execution_count": 17,
   "metadata": {
    "scrolled": true
   },
   "outputs": [
    {
     "data": {
      "text/html": [
       "<div>\n",
       "<style scoped>\n",
       "    .dataframe tbody tr th:only-of-type {\n",
       "        vertical-align: middle;\n",
       "    }\n",
       "\n",
       "    .dataframe tbody tr th {\n",
       "        vertical-align: top;\n",
       "    }\n",
       "\n",
       "    .dataframe thead th {\n",
       "        text-align: right;\n",
       "    }\n",
       "</style>\n",
       "<table border=\"1\" class=\"dataframe\">\n",
       "  <thead>\n",
       "    <tr style=\"text-align: right;\">\n",
       "      <th></th>\n",
       "      <th>instant</th>\n",
       "      <th>dteday</th>\n",
       "      <th>season</th>\n",
       "      <th>yr</th>\n",
       "      <th>mnth</th>\n",
       "      <th>holiday</th>\n",
       "      <th>weekday</th>\n",
       "      <th>workingday</th>\n",
       "      <th>weathersit</th>\n",
       "      <th>temp</th>\n",
       "      <th>atemp</th>\n",
       "      <th>hum</th>\n",
       "      <th>windspeed</th>\n",
       "      <th>count</th>\n",
       "    </tr>\n",
       "  </thead>\n",
       "  <tbody>\n",
       "    <tr>\n",
       "      <th>0</th>\n",
       "      <td>1</td>\n",
       "      <td>2011-01-01</td>\n",
       "      <td>1</td>\n",
       "      <td>0</td>\n",
       "      <td>1</td>\n",
       "      <td>0</td>\n",
       "      <td>6</td>\n",
       "      <td>0</td>\n",
       "      <td>2</td>\n",
       "      <td>0.344167</td>\n",
       "      <td>0.363625</td>\n",
       "      <td>0.805833</td>\n",
       "      <td>0.160446</td>\n",
       "      <td>985</td>\n",
       "    </tr>\n",
       "    <tr>\n",
       "      <th>1</th>\n",
       "      <td>2</td>\n",
       "      <td>2011-01-02</td>\n",
       "      <td>1</td>\n",
       "      <td>0</td>\n",
       "      <td>1</td>\n",
       "      <td>0</td>\n",
       "      <td>0</td>\n",
       "      <td>0</td>\n",
       "      <td>2</td>\n",
       "      <td>0.363478</td>\n",
       "      <td>0.353739</td>\n",
       "      <td>0.696087</td>\n",
       "      <td>0.248539</td>\n",
       "      <td>801</td>\n",
       "    </tr>\n",
       "    <tr>\n",
       "      <th>2</th>\n",
       "      <td>3</td>\n",
       "      <td>2011-01-03</td>\n",
       "      <td>1</td>\n",
       "      <td>0</td>\n",
       "      <td>1</td>\n",
       "      <td>0</td>\n",
       "      <td>1</td>\n",
       "      <td>1</td>\n",
       "      <td>1</td>\n",
       "      <td>0.196364</td>\n",
       "      <td>0.189405</td>\n",
       "      <td>0.437273</td>\n",
       "      <td>0.248309</td>\n",
       "      <td>1349</td>\n",
       "    </tr>\n",
       "    <tr>\n",
       "      <th>3</th>\n",
       "      <td>4</td>\n",
       "      <td>2011-01-04</td>\n",
       "      <td>1</td>\n",
       "      <td>0</td>\n",
       "      <td>1</td>\n",
       "      <td>0</td>\n",
       "      <td>2</td>\n",
       "      <td>1</td>\n",
       "      <td>1</td>\n",
       "      <td>0.200000</td>\n",
       "      <td>0.212122</td>\n",
       "      <td>0.590435</td>\n",
       "      <td>0.160296</td>\n",
       "      <td>1562</td>\n",
       "    </tr>\n",
       "    <tr>\n",
       "      <th>4</th>\n",
       "      <td>5</td>\n",
       "      <td>2011-01-05</td>\n",
       "      <td>1</td>\n",
       "      <td>0</td>\n",
       "      <td>1</td>\n",
       "      <td>0</td>\n",
       "      <td>3</td>\n",
       "      <td>1</td>\n",
       "      <td>1</td>\n",
       "      <td>0.226957</td>\n",
       "      <td>0.229270</td>\n",
       "      <td>0.436957</td>\n",
       "      <td>0.186900</td>\n",
       "      <td>1600</td>\n",
       "    </tr>\n",
       "  </tbody>\n",
       "</table>\n",
       "</div>"
      ],
      "text/plain": [
       "   instant     dteday  season  yr  mnth  holiday  weekday  workingday  \\\n",
       "0        1 2011-01-01       1   0     1        0        6           0   \n",
       "1        2 2011-01-02       1   0     1        0        0           0   \n",
       "2        3 2011-01-03       1   0     1        0        1           1   \n",
       "3        4 2011-01-04       1   0     1        0        2           1   \n",
       "4        5 2011-01-05       1   0     1        0        3           1   \n",
       "\n",
       "   weathersit      temp     atemp       hum  windspeed  count  \n",
       "0           2  0.344167  0.363625  0.805833   0.160446    985  \n",
       "1           2  0.363478  0.353739  0.696087   0.248539    801  \n",
       "2           1  0.196364  0.189405  0.437273   0.248309   1349  \n",
       "3           1  0.200000  0.212122  0.590435   0.160296   1562  \n",
       "4           1  0.226957  0.229270  0.436957   0.186900   1600  "
      ]
     },
     "execution_count": 17,
     "metadata": {},
     "output_type": "execute_result"
    }
   ],
   "source": [
    "df_bikesharing = pd.read_excel('Bike_Sharing_day.xlsx', sheet_name=\"day\", engine='openpyxl')\n",
    "dummy=df_bikesharing\n",
    "dummy.head()"
   ]
  },
  {
   "cell_type": "code",
   "execution_count": 37,
   "metadata": {},
   "outputs": [
    {
     "data": {
      "text/plain": [
       "'yy=np.reshape(y, (-1,1))\\n\\nfrom sklearn.preprocessing import MinMaxScaler\\nsscaler = MinMaxScaler()\\nX = sscaler.fit_transform(X)\\ny = sscaler.fit_transform(yy)'"
      ]
     },
     "execution_count": 37,
     "metadata": {},
     "output_type": "execute_result"
    }
   ],
   "source": [
    "df_features=dummy.drop('count', axis=1)\n",
    "df_features=df_features.drop('instant', axis=1)\n",
    "df_features=df_features.drop('dteday', axis=1)\n",
    "len(df_features)\n",
    "df_features.head(5)\n",
    "\n",
    "X = df_features\n",
    "y = dummy['count']\n",
    "\n",
    "\n",
    "\n",
    "##Run this if you want to scale the input and output \n",
    "\n",
    "'''yy=np.reshape(y, (-1,1))\n",
    "\n",
    "from sklearn.preprocessing import MinMaxScaler\n",
    "sscaler = MinMaxScaler()\n",
    "X = sscaler.fit_transform(X)\n",
    "y = sscaler.fit_transform(yy)'''"
   ]
  },
  {
   "cell_type": "code",
   "execution_count": 38,
   "metadata": {
    "scrolled": true
   },
   "outputs": [
    {
     "data": {
      "text/html": [
       "<div>\n",
       "<style scoped>\n",
       "    .dataframe tbody tr th:only-of-type {\n",
       "        vertical-align: middle;\n",
       "    }\n",
       "\n",
       "    .dataframe tbody tr th {\n",
       "        vertical-align: top;\n",
       "    }\n",
       "\n",
       "    .dataframe thead th {\n",
       "        text-align: right;\n",
       "    }\n",
       "</style>\n",
       "<table border=\"1\" class=\"dataframe\">\n",
       "  <thead>\n",
       "    <tr style=\"text-align: right;\">\n",
       "      <th></th>\n",
       "      <th>season</th>\n",
       "      <th>yr</th>\n",
       "      <th>mnth</th>\n",
       "      <th>holiday</th>\n",
       "      <th>weekday</th>\n",
       "      <th>workingday</th>\n",
       "      <th>weathersit</th>\n",
       "      <th>temp</th>\n",
       "      <th>atemp</th>\n",
       "      <th>hum</th>\n",
       "      <th>windspeed</th>\n",
       "    </tr>\n",
       "  </thead>\n",
       "  <tbody>\n",
       "    <tr>\n",
       "      <th>0</th>\n",
       "      <td>1</td>\n",
       "      <td>0</td>\n",
       "      <td>1</td>\n",
       "      <td>0</td>\n",
       "      <td>6</td>\n",
       "      <td>0</td>\n",
       "      <td>2</td>\n",
       "      <td>0.344167</td>\n",
       "      <td>0.363625</td>\n",
       "      <td>0.805833</td>\n",
       "      <td>0.160446</td>\n",
       "    </tr>\n",
       "    <tr>\n",
       "      <th>1</th>\n",
       "      <td>1</td>\n",
       "      <td>0</td>\n",
       "      <td>1</td>\n",
       "      <td>0</td>\n",
       "      <td>0</td>\n",
       "      <td>0</td>\n",
       "      <td>2</td>\n",
       "      <td>0.363478</td>\n",
       "      <td>0.353739</td>\n",
       "      <td>0.696087</td>\n",
       "      <td>0.248539</td>\n",
       "    </tr>\n",
       "    <tr>\n",
       "      <th>2</th>\n",
       "      <td>1</td>\n",
       "      <td>0</td>\n",
       "      <td>1</td>\n",
       "      <td>0</td>\n",
       "      <td>1</td>\n",
       "      <td>1</td>\n",
       "      <td>1</td>\n",
       "      <td>0.196364</td>\n",
       "      <td>0.189405</td>\n",
       "      <td>0.437273</td>\n",
       "      <td>0.248309</td>\n",
       "    </tr>\n",
       "    <tr>\n",
       "      <th>3</th>\n",
       "      <td>1</td>\n",
       "      <td>0</td>\n",
       "      <td>1</td>\n",
       "      <td>0</td>\n",
       "      <td>2</td>\n",
       "      <td>1</td>\n",
       "      <td>1</td>\n",
       "      <td>0.200000</td>\n",
       "      <td>0.212122</td>\n",
       "      <td>0.590435</td>\n",
       "      <td>0.160296</td>\n",
       "    </tr>\n",
       "    <tr>\n",
       "      <th>4</th>\n",
       "      <td>1</td>\n",
       "      <td>0</td>\n",
       "      <td>1</td>\n",
       "      <td>0</td>\n",
       "      <td>3</td>\n",
       "      <td>1</td>\n",
       "      <td>1</td>\n",
       "      <td>0.226957</td>\n",
       "      <td>0.229270</td>\n",
       "      <td>0.436957</td>\n",
       "      <td>0.186900</td>\n",
       "    </tr>\n",
       "  </tbody>\n",
       "</table>\n",
       "</div>"
      ],
      "text/plain": [
       "   season  yr  mnth  holiday  weekday  workingday  weathersit      temp  \\\n",
       "0       1   0     1        0        6           0           2  0.344167   \n",
       "1       1   0     1        0        0           0           2  0.363478   \n",
       "2       1   0     1        0        1           1           1  0.196364   \n",
       "3       1   0     1        0        2           1           1  0.200000   \n",
       "4       1   0     1        0        3           1           1  0.226957   \n",
       "\n",
       "      atemp       hum  windspeed  \n",
       "0  0.363625  0.805833   0.160446  \n",
       "1  0.353739  0.696087   0.248539  \n",
       "2  0.189405  0.437273   0.248309  \n",
       "3  0.212122  0.590435   0.160296  \n",
       "4  0.229270  0.436957   0.186900  "
      ]
     },
     "execution_count": 38,
     "metadata": {},
     "output_type": "execute_result"
    }
   ],
   "source": [
    "X.head()"
   ]
  },
  {
   "cell_type": "code",
   "execution_count": 39,
   "metadata": {},
   "outputs": [],
   "source": [
    "X.insert(loc=0, column='biased', value=1.0)"
   ]
  },
  {
   "cell_type": "code",
   "execution_count": 40,
   "metadata": {
    "scrolled": false
   },
   "outputs": [
    {
     "data": {
      "text/html": [
       "<div>\n",
       "<style scoped>\n",
       "    .dataframe tbody tr th:only-of-type {\n",
       "        vertical-align: middle;\n",
       "    }\n",
       "\n",
       "    .dataframe tbody tr th {\n",
       "        vertical-align: top;\n",
       "    }\n",
       "\n",
       "    .dataframe thead th {\n",
       "        text-align: right;\n",
       "    }\n",
       "</style>\n",
       "<table border=\"1\" class=\"dataframe\">\n",
       "  <thead>\n",
       "    <tr style=\"text-align: right;\">\n",
       "      <th></th>\n",
       "      <th>biased</th>\n",
       "      <th>season</th>\n",
       "      <th>yr</th>\n",
       "      <th>mnth</th>\n",
       "      <th>holiday</th>\n",
       "      <th>weekday</th>\n",
       "      <th>workingday</th>\n",
       "      <th>weathersit</th>\n",
       "      <th>temp</th>\n",
       "      <th>atemp</th>\n",
       "      <th>hum</th>\n",
       "      <th>windspeed</th>\n",
       "    </tr>\n",
       "  </thead>\n",
       "  <tbody>\n",
       "    <tr>\n",
       "      <th>0</th>\n",
       "      <td>1.0</td>\n",
       "      <td>1</td>\n",
       "      <td>0</td>\n",
       "      <td>1</td>\n",
       "      <td>0</td>\n",
       "      <td>6</td>\n",
       "      <td>0</td>\n",
       "      <td>2</td>\n",
       "      <td>0.344167</td>\n",
       "      <td>0.363625</td>\n",
       "      <td>0.805833</td>\n",
       "      <td>0.160446</td>\n",
       "    </tr>\n",
       "    <tr>\n",
       "      <th>1</th>\n",
       "      <td>1.0</td>\n",
       "      <td>1</td>\n",
       "      <td>0</td>\n",
       "      <td>1</td>\n",
       "      <td>0</td>\n",
       "      <td>0</td>\n",
       "      <td>0</td>\n",
       "      <td>2</td>\n",
       "      <td>0.363478</td>\n",
       "      <td>0.353739</td>\n",
       "      <td>0.696087</td>\n",
       "      <td>0.248539</td>\n",
       "    </tr>\n",
       "    <tr>\n",
       "      <th>2</th>\n",
       "      <td>1.0</td>\n",
       "      <td>1</td>\n",
       "      <td>0</td>\n",
       "      <td>1</td>\n",
       "      <td>0</td>\n",
       "      <td>1</td>\n",
       "      <td>1</td>\n",
       "      <td>1</td>\n",
       "      <td>0.196364</td>\n",
       "      <td>0.189405</td>\n",
       "      <td>0.437273</td>\n",
       "      <td>0.248309</td>\n",
       "    </tr>\n",
       "    <tr>\n",
       "      <th>3</th>\n",
       "      <td>1.0</td>\n",
       "      <td>1</td>\n",
       "      <td>0</td>\n",
       "      <td>1</td>\n",
       "      <td>0</td>\n",
       "      <td>2</td>\n",
       "      <td>1</td>\n",
       "      <td>1</td>\n",
       "      <td>0.200000</td>\n",
       "      <td>0.212122</td>\n",
       "      <td>0.590435</td>\n",
       "      <td>0.160296</td>\n",
       "    </tr>\n",
       "    <tr>\n",
       "      <th>4</th>\n",
       "      <td>1.0</td>\n",
       "      <td>1</td>\n",
       "      <td>0</td>\n",
       "      <td>1</td>\n",
       "      <td>0</td>\n",
       "      <td>3</td>\n",
       "      <td>1</td>\n",
       "      <td>1</td>\n",
       "      <td>0.226957</td>\n",
       "      <td>0.229270</td>\n",
       "      <td>0.436957</td>\n",
       "      <td>0.186900</td>\n",
       "    </tr>\n",
       "  </tbody>\n",
       "</table>\n",
       "</div>"
      ],
      "text/plain": [
       "   biased  season  yr  mnth  holiday  weekday  workingday  weathersit  \\\n",
       "0     1.0       1   0     1        0        6           0           2   \n",
       "1     1.0       1   0     1        0        0           0           2   \n",
       "2     1.0       1   0     1        0        1           1           1   \n",
       "3     1.0       1   0     1        0        2           1           1   \n",
       "4     1.0       1   0     1        0        3           1           1   \n",
       "\n",
       "       temp     atemp       hum  windspeed  \n",
       "0  0.344167  0.363625  0.805833   0.160446  \n",
       "1  0.363478  0.353739  0.696087   0.248539  \n",
       "2  0.196364  0.189405  0.437273   0.248309  \n",
       "3  0.200000  0.212122  0.590435   0.160296  \n",
       "4  0.226957  0.229270  0.436957   0.186900  "
      ]
     },
     "execution_count": 40,
     "metadata": {},
     "output_type": "execute_result"
    }
   ],
   "source": [
    "X.head()"
   ]
  },
  {
   "cell_type": "markdown",
   "metadata": {},
   "source": [
    "### Important stroke: Scale the output!"
   ]
  },
  {
   "cell_type": "code",
   "execution_count": 41,
   "metadata": {},
   "outputs": [],
   "source": [
    "y_highest = y.max()"
   ]
  },
  {
   "cell_type": "code",
   "execution_count": 22,
   "metadata": {},
   "outputs": [],
   "source": [
    "y=y/y.max()"
   ]
  },
  {
   "cell_type": "code",
   "execution_count": 23,
   "metadata": {},
   "outputs": [],
   "source": [
    "from sklearn.model_selection import train_test_split \n",
    "X_train, X_test, y_train, y_test = train_test_split(X, y, test_size = 0.25, random_state = 1 )"
   ]
  },
  {
   "cell_type": "code",
   "execution_count": 24,
   "metadata": {},
   "outputs": [],
   "source": [
    "y_train=np.array(y_train, ndmin=2).T"
   ]
  },
  {
   "cell_type": "code",
   "execution_count": 25,
   "metadata": {},
   "outputs": [
    {
     "data": {
      "text/plain": [
       "548"
      ]
     },
     "execution_count": 25,
     "metadata": {},
     "output_type": "execute_result"
    }
   ],
   "source": [
    "len(y_train)"
   ]
  },
  {
   "cell_type": "markdown",
   "metadata": {},
   "source": [
    "## Train"
   ]
  },
  {
   "cell_type": "code",
   "execution_count": 26,
   "metadata": {},
   "outputs": [],
   "source": [
    "X=X_train.values\n",
    "y=y_train"
   ]
  },
  {
   "cell_type": "code",
   "execution_count": 27,
   "metadata": {},
   "outputs": [],
   "source": [
    "gamma1=.01 #input to hidden bigger\n",
    "gamma2=.001 #Hidden to Output smaller\n",
    "\n",
    "no_hidden=len(X[0])+3 #No of hidden nodes\n",
    "no_inputs=len(X[0])"
   ]
  },
  {
   "cell_type": "code",
   "execution_count": 33,
   "metadata": {},
   "outputs": [
    {
     "name": "stdout",
     "output_type": "stream",
     "text": [
      "Train Error = 1.8366339576800146 valid metric = -14.492036682772001\n",
      "Train Error = 2.285717414906865 valid metric = -175.56701531190262\n",
      "Train Error = 0.4051840874567981 valid metric = -1445.3134470467562\n",
      "Train Error = 0.1790284520438554 valid metric = -520.4070904836976\n",
      "Train Error = 0.17534833229985067 valid metric = -429.6113228545076\n",
      "Train Error = 0.17518501799049974 valid metric = -403.75243059271213\n",
      "Train Error = 0.17505492412613194 valid metric = -375.7468947783412\n",
      "Train Error = 0.17492170969308665 valid metric = -350.10218388043717\n",
      "Train Error = 0.17478469248256714 valid metric = -326.2220723001483\n",
      "Train Error = 0.17464348869906002 valid metric = -303.99808554922225\n",
      "Train Error = 0.17449769143342916 valid metric = -283.2918055382505\n",
      "Train Error = 0.17434749282851625 valid metric = -263.9807472280321\n",
      "Train Error = 0.17419170042419807 valid metric = -245.95324969586235\n",
      "Train Error = 0.17402975536616105 valid metric = -229.10795826229034\n",
      "Train Error = 0.17386164067202664 valid metric = -213.35290651569272\n",
      "Train Error = 0.17368782616745904 valid metric = -198.60467692172497\n",
      "Train Error = 0.17350599948665732 valid metric = -184.78761162005375\n",
      "Train Error = 0.17331651151570723 valid metric = -171.83308346281441\n",
      "Train Error = 0.17311775060698875 valid metric = -159.67882889249267\n",
      "Train Error = 0.17290839375236408 valid metric = -148.26834185348034\n"
     ]
    }
   ],
   "source": [
    "np.random.seed(42)\n",
    "\n",
    "nn = neural_net()\n",
    "nn.add_input_layer(no_inputs) # input layer\n",
    "nn.add_layer(no_hidden, activation='sigmoid', learning_rate=0.01)\n",
    "# nn.add_layer(3, activation='sigmoid', learning_rate=0.01)\n",
    "nn.add_layer(1, activation='linear', learning_rate=0.001) # output layer\n",
    "\n",
    "# errors printed by verbose has a bug\n",
    "nn.fit(X_train, y_train, X_test.values, y_test, train_iter=100000, metric='r2', verbose=True)"
   ]
  },
  {
   "cell_type": "code",
   "execution_count": 34,
   "metadata": {},
   "outputs": [
    {
     "data": {
      "text/plain": [
       "[<matplotlib.lines.Line2D at 0x7f8a60223d90>]"
      ]
     },
     "execution_count": 34,
     "metadata": {},
     "output_type": "execute_result"
    },
    {
     "data": {
      "image/png": "[encoded data removed]",
      "text/plain": [
       "<Figure size 432x288 with 1 Axes>"
      ]
     },
     "metadata": {
      "needs_background": "light"
     },
     "output_type": "display_data"
    }
   ],
   "source": [
    "plt.plot(nn.errors, label='training error')\n",
    "plt.plot(nn.metric, label='r2')"
   ]
  },
  {
   "cell_type": "code",
   "execution_count": 35,
   "metadata": {},
   "outputs": [
    {
     "data": {
      "text/plain": [
       "0.8162838154668742"
      ]
     },
     "execution_count": 35,
     "metadata": {},
     "output_type": "execute_result"
    }
   ],
   "source": [
    "y_pred = nn.predict(X_test)\n",
    "r2_score(y_pred, y_test) "
   ]
  },
  {
   "cell_type": "code",
   "execution_count": 42,
   "metadata": {},
   "outputs": [
    {
     "name": "stdout",
     "output_type": "stream",
     "text": [
      "R2 score = 0.816284\n"
     ]
    },
    {
     "data": {
      "image/png": "[encoded data removed]",
      "text/plain": [
       "<Figure size 1080x720 with 1 Axes>"
      ]
     },
     "metadata": {
      "needs_background": "light"
     },
     "output_type": "display_data"
    }
   ],
   "source": [
    "fig = plt.figure(figsize=(15, 10))\n",
    "plt.scatter(y_highest.max()*y_pred,y_highest.max()*y_test, c=\"r\", label=\"test (actual) data\")\n",
    "print(\"R2 score = %f\"%r2_score(y_highest.max()*y_pred, y_highest.max()*y_test))\n",
    "#print(accuracy_score(y_pred_LR,y_test))"
   ]
  },
  {
   "cell_type": "code",
   "execution_count": null,
   "metadata": {},
   "outputs": [],
   "source": []
  }
 ],
 "metadata": {
  "kernelspec": {
   "display_name": "Python 3.8.2 64-bit ('smart_resu': conda)",
   "language": "python",
   "name": "python38264bitsmartresucondaba59cd7eb1474ae79c231df8550450d0"
  },
  "language_info": {
   "codemirror_mode": {
    "name": "ipython",
    "version": 3
   },
   "file_extension": ".py",
   "mimetype": "text/x-python",
   "name": "python",
   "nbconvert_exporter": "python",
   "pygments_lexer": "ipython3",
   "version": "3.8.2"
  }
 },
 "nbformat": 4,
 "nbformat_minor": 2
}
