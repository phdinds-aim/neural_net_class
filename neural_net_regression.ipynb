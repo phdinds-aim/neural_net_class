{
 "cells": [
  {
   "cell_type": "markdown",
   "metadata": {},
   "source": [
    "# Neural Network Analysis"
   ]
  },
  {
   "cell_type": "code",
   "execution_count": 1,
   "metadata": {
    "ExecuteTime": {
     "end_time": "2021-04-17T06:26:37.261372Z",
     "start_time": "2021-04-17T06:26:33.739480Z"
    }
   },
   "outputs": [
    {
     "name": "stdout",
     "output_type": "stream",
     "text": [
      "Defaulting to user installation because normal site-packages is not writeable\n",
      "Requirement already satisfied: jdc in /home/phd/pjavier/.local/lib/python3.8/site-packages (0.0.9)\n"
     ]
    }
   ],
   "source": [
    "!pip install jdc\n",
    "import jdc\n",
    "import pandas as pd\n",
    "import numpy as np\n",
    "import matplotlib.pyplot as plt\n",
    "from collections import defaultdict\n",
    "from pprint import pprint\n",
    "from sklearn.metrics import r2_score"
   ]
  },
  {
   "cell_type": "markdown",
   "metadata": {},
   "source": [
    "## Define Class"
   ]
  },
  {
   "cell_type": "code",
   "execution_count": 2,
   "metadata": {
    "ExecuteTime": {
     "end_time": "2021-04-17T06:26:37.268145Z",
     "start_time": "2021-04-17T06:26:37.263327Z"
    }
   },
   "outputs": [],
   "source": [
    "# activation functions\n",
    "def sigmoid(x=0, deriv=False):\n",
    "    sigmoid=1/(1+np.exp(-x))\n",
    "    if(deriv==True):\n",
    "        return sigmoid*(1-sigmoid)\n",
    "    return sigmoid\n",
    "\n",
    "def sigmoid2(x,deriv=False):\n",
    "    sigmoid=1.2/(1.0+np.exp(-x))\n",
    "    if(deriv==True):\n",
    "        return 1.2*sigmoid*(1-sigmoid)\n",
    "    return sigmoid\n",
    "\n",
    "def sin(x=0, deriv=False):\n",
    "    if(deriv==True):\n",
    "        return np.cos(x)\n",
    "    return np.sin(x)\n",
    "\n",
    "def linear(x=0, deriv=False):\n",
    "    if(deriv==True):\n",
    "        return 1\n",
    "    return x"
   ]
  },
  {
   "cell_type": "code",
   "execution_count": 3,
   "metadata": {
    "ExecuteTime": {
     "end_time": "2021-04-17T06:26:37.324829Z",
     "start_time": "2021-04-17T06:26:37.270105Z"
    }
   },
   "outputs": [],
   "source": [
    "class neural_net:    \n",
    "    def __init__(self):\n",
    "        # inputs\n",
    "        self.nodes_tracker = defaultdict() # tracks {layer_num: num_nodes}\n",
    "        self.act_tracker = defaultdict() # tracks {layer_num: activation_function}\n",
    "        self.lr_tracker = defaultdict() # tracks {layer_num: gamma/learning_rate}  \n",
    "        self.weights = defaultdict() # tracks weights from previous layer to next {prev_layer: weights to next layer}              \n",
    "        \n",
    "        # training\n",
    "        self.feed_fwd_tracker = defaultdict() # tracks feed forward {layer_num:feed_forward values}\n",
    "        self.delta_tracker = defaultdict() # tracks delta for weight updates {layer_num:delta values}        \n",
    "        \n",
    "        # others\n",
    "        self.layer_num = 0 # +1 for every hidden layer added\n",
    "        self.act_func_list = {'sin':sin, 'sigmoid':sigmoid, 'sigmoid2':sigmoid2, 'linear':linear} # activation functions\n",
    "        self.errors = []\n",
    "        self.metric = []"
   ]
  },
  {
   "cell_type": "code",
   "execution_count": 4,
   "metadata": {
    "ExecuteTime": {
     "end_time": "2021-04-17T06:26:37.335558Z",
     "start_time": "2021-04-17T06:26:37.328641Z"
    }
   },
   "outputs": [],
   "source": [
    "%%add_to neural_net\n",
    "def add_input_layer(self, num_inputs):\n",
    "    self.nodes_tracker[f'layer_{self.layer_num}'] = num_inputs\n",
    "    self.layer_num += 1 # for next hidden layer    \n",
    "\n",
    "def add_layer(self, num_nodes, activation='sigmoid', learning_rate=0.01): # has bugs for > 2 hidden layers\n",
    "    self.nodes_tracker[f'layer_{self.layer_num}'] = num_nodes\n",
    "    self.act_tracker[f'layer_{self.layer_num}'] = self.act_func_list[activation]    \n",
    "    self.lr_tracker[f'layer_{self.layer_num}'] = learning_rate\n",
    "    self.layer_num += 1 # for next hidden layer    "
   ]
  },
  {
   "cell_type": "code",
   "execution_count": 5,
   "metadata": {
    "ExecuteTime": {
     "end_time": "2021-04-17T06:26:37.343833Z",
     "start_time": "2021-04-17T06:26:37.338925Z"
    }
   },
   "outputs": [],
   "source": [
    "%%add_to neural_net\n",
    "# can implement xavier-glorot later\n",
    "def init_weights(self):    \n",
    "    '''initialize weights'''\n",
    "    \n",
    "    self.num_layers = len(self.nodes_tracker.keys())    \n",
    "    for i in range(self.num_layers-1):\n",
    "        np.random.seed(i)\n",
    "        prev_layer = f'layer_{i}'\n",
    "        next_layer = f'layer_{i+1}'\n",
    "        self.weights[prev_layer] = 2*np.random.random((self.nodes_tracker[prev_layer],self.nodes_tracker[next_layer])) - 1\n",
    "    "
   ]
  },
  {
   "cell_type": "code",
   "execution_count": 6,
   "metadata": {
    "ExecuteTime": {
     "end_time": "2021-04-17T06:26:37.351147Z",
     "start_time": "2021-04-17T06:26:37.346493Z"
    }
   },
   "outputs": [],
   "source": [
    "%%add_to neural_net\n",
    "def feed_forward(self):\n",
    "    # Feed forward through layers 0, 1, and 2    \n",
    "    # initialize with training data\n",
    "\n",
    "    # Template:\n",
    "    # layer0 = X\n",
    "    # layer1 = nonlin(np.dot(layer0,w0))  \n",
    "    \n",
    "    self.feed_fwd_tracker['layer_0'] = self.X_train # input from fit function\n",
    "    \n",
    "    for i in range(0, self.num_layers-1):\n",
    "        prev_layer = f'layer_{i}'\n",
    "        next_layer = f'layer_{i+1}'       \n",
    "        \n",
    "        prev_next_vals = np.dot(self.feed_fwd_tracker[prev_layer], self.weights[prev_layer])        \n",
    "        self.feed_fwd_tracker[next_layer] = self.act_tracker[next_layer](prev_next_vals)"
   ]
  },
  {
   "cell_type": "code",
   "execution_count": 7,
   "metadata": {
    "ExecuteTime": {
     "end_time": "2021-04-17T06:26:37.357835Z",
     "start_time": "2021-04-17T06:26:37.353401Z"
    }
   },
   "outputs": [],
   "source": [
    "%%add_to neural_net\n",
    "def predict(self, X):\n",
    "    # Feed forward through layers 0, 1, and 2    \n",
    "    # initialize with training data\n",
    "\n",
    "    # Template:\n",
    "    # layer0 = X\n",
    "    # layer1 = nonlin(np.dot(layer0,w0))  \n",
    "    \n",
    "    feed_fwd_tracker_predict = {k:v for k, v in self.feed_fwd_tracker.items()}\n",
    "    feed_fwd_tracker_predict['layer_0'] = X # input from fit function\n",
    "    \n",
    "    for i in range(0, self.num_layers-1):\n",
    "        prev_layer = f'layer_{i}'\n",
    "        next_layer = f'layer_{i+1}'       \n",
    "        \n",
    "        prev_next_vals = np.dot(feed_fwd_tracker_predict[prev_layer], self.weights[prev_layer])        \n",
    "        feed_fwd_tracker_predict[next_layer] = self.act_tracker[next_layer](prev_next_vals)\n",
    "    \n",
    "    return feed_fwd_tracker_predict[next_layer]"
   ]
  },
  {
   "cell_type": "code",
   "execution_count": 8,
   "metadata": {
    "ExecuteTime": {
     "end_time": "2021-04-17T06:26:37.366618Z",
     "start_time": "2021-04-17T06:26:37.361376Z"
    }
   },
   "outputs": [],
   "source": [
    "%%add_to neural_net\n",
    "def backprop(self):\n",
    "    \n",
    "    # get delta from last layer    \n",
    "    # Template: layer3_delta = layer3_error*nonlin(np.dot(layer2,w2),deriv=True)\n",
    "    last_layer_name = f'layer_{self.layer_num-1}' # e.g. 4th layer is layer_3\n",
    "    prev_layer_name = f'layer_{self.layer_num-2}' # e.g. 3rd layer is layer_2\n",
    "    \n",
    "    last_layer_ff = self.feed_fwd_tracker[last_layer_name] \n",
    "    prev_layer_ff = self.feed_fwd_tracker[prev_layer_name]    \n",
    "    prev_layer_weights = self.weights[prev_layer_name]        \n",
    "\n",
    "    dot_val = np.dot(prev_layer_ff, prev_layer_weights)    \n",
    "    self.delta_tracker[last_layer_name] = self.error * self.act_tracker[last_layer_name](dot_val, deriv=True)\n",
    "    \n",
    "    # propagate gradients the previous layers\n",
    "    # Template: layer2_delta = layer3_delta.dot(w2.T)*nonlin(np.dot(layer1,w1),deriv=True)    \n",
    "    for i in np.arange(self.num_layers-1, 1, -1):\n",
    "        next_layer_name = f'layer_{i}' # e.g. layer 3     \n",
    "        current_layer_name = f'layer_{i-1}' # e.g. layer 2\n",
    "        prev_layer_name = f'layer_{i-2}' # e.g. layer 1\n",
    "        \n",
    "        next_layer_ff = self.feed_fwd_tracker[next_layer_name] \n",
    "        current_layer_ff = self.feed_fwd_tracker[current_layer_name]    \n",
    "        current_layer_weights = self.weights[current_layer_name]\n",
    "        \n",
    "        prev_layer_ff = self.feed_fwd_tracker[prev_layer_name]    \n",
    "        prev_layer_weights = self.weights[prev_layer_name]        \n",
    "                \n",
    "        part_a = self.delta_tracker[next_layer_name].dot(current_layer_weights.T)\n",
    "        part_b = np.dot(prev_layer_ff, prev_layer_weights)    \n",
    "        part_c = self.act_tracker[current_layer_name](part_b, deriv=True)\n",
    "        self.delta_tracker[current_layer_name] = part_a * part_c\n",
    "        \n",
    "    # update weights\n",
    "    # Template: w2 += gamma2*layer2.T.dot(layer3_delta)\n",
    "    for i in range(self.layer_num-1):\n",
    "        \n",
    "        # we want to update weights from next layer to next {prev_layer: weight to next}\n",
    "        \n",
    "        next_layer_name = f'layer_{i+1}' # e.g. layer 3     \n",
    "        current_layer_name = f'layer_{i}' # e.g. layer 2\n",
    "        \n",
    "        gamma = self.lr_tracker[next_layer_name] # learning rate to next layer\n",
    "        current_layer_ff = self.feed_fwd_tracker[current_layer_name] # feed forward value  \n",
    "        next_layer_delta = self.delta_tracker[next_layer_name] # delta from next layer\n",
    "        \n",
    "        self.weights[current_layer_name] += gamma * current_layer_ff.T.dot(next_layer_delta)        "
   ]
  },
  {
   "cell_type": "code",
   "execution_count": 24,
   "metadata": {
    "ExecuteTime": {
     "end_time": "2021-04-17T06:27:06.910093Z",
     "start_time": "2021-04-17T06:27:06.902183Z"
    }
   },
   "outputs": [],
   "source": [
    "%%add_to neural_net\n",
    "def fit(self, X_train, y_train, X_valid, y_valid, train_iter, metric='r2', verbose=False):\n",
    "    self.X_train = X_train\n",
    "    self.y_train = y_train \n",
    "    self.X_valid = X_valid\n",
    "    self.y_valid = y_valid\n",
    "    \n",
    "    # last_layer name\n",
    "    self.last_layer = f'layer_{len(self.nodes_tracker.keys())-1}'\n",
    "    \n",
    "    # initialize weights\n",
    "    self.init_weights()\n",
    "    for i in range(train_iter):\n",
    "        # feed forward\n",
    "        self.feed_forward()\n",
    "        \n",
    "        # Error Function\n",
    "        # self.error = self.y_train - self.feed_fwd_tracker[self.last_layer]\n",
    "        self.error = self.y_train - self.predict(self.X_train)\n",
    "        \n",
    "        if (i%(train_iter//20)) == 0:   \n",
    "            error_ = np.mean(np.abs(self.error))\n",
    "            self.errors.append(error_)                                           \n",
    "                    \n",
    "            # accuracy on validation set\n",
    "            if metric=='r2':\n",
    "                y_pred = nn.predict(self.X_valid).flatten()\n",
    "                metric_ = r2_score(y_pred, self.y_valid)\n",
    "                self.metric.append(metric_) \n",
    "                \n",
    "            if verbose: # reporting has a bug  \n",
    "                print (\"Train Error =\", error_, \"valid metric =\", metric_)    \n",
    "                                                                      \n",
    "                \n",
    "        # backprop\n",
    "        self.backprop()\n",
    "    "
   ]
  },
  {
   "cell_type": "markdown",
   "metadata": {},
   "source": [
    "## Load the Data"
   ]
  },
  {
   "cell_type": "code",
   "execution_count": 25,
   "metadata": {
    "ExecuteTime": {
     "end_time": "2021-04-17T06:27:07.307735Z",
     "start_time": "2021-04-17T06:27:07.303909Z"
    }
   },
   "outputs": [],
   "source": [
    "# !pip install openpyxl"
   ]
  },
  {
   "cell_type": "code",
   "execution_count": 26,
   "metadata": {
    "ExecuteTime": {
     "end_time": "2021-04-17T06:27:07.649571Z",
     "start_time": "2021-04-17T06:27:07.477717Z"
    },
    "scrolled": true
   },
   "outputs": [
    {
     "data": {
      "text/html": [
       "<div>\n",
       "<style scoped>\n",
       "    .dataframe tbody tr th:only-of-type {\n",
       "        vertical-align: middle;\n",
       "    }\n",
       "\n",
       "    .dataframe tbody tr th {\n",
       "        vertical-align: top;\n",
       "    }\n",
       "\n",
       "    .dataframe thead th {\n",
       "        text-align: right;\n",
       "    }\n",
       "</style>\n",
       "<table border=\"1\" class=\"dataframe\">\n",
       "  <thead>\n",
       "    <tr style=\"text-align: right;\">\n",
       "      <th></th>\n",
       "      <th>instant</th>\n",
       "      <th>dteday</th>\n",
       "      <th>season</th>\n",
       "      <th>yr</th>\n",
       "      <th>mnth</th>\n",
       "      <th>holiday</th>\n",
       "      <th>weekday</th>\n",
       "      <th>workingday</th>\n",
       "      <th>weathersit</th>\n",
       "      <th>temp</th>\n",
       "      <th>atemp</th>\n",
       "      <th>hum</th>\n",
       "      <th>windspeed</th>\n",
       "      <th>count</th>\n",
       "    </tr>\n",
       "  </thead>\n",
       "  <tbody>\n",
       "    <tr>\n",
       "      <th>0</th>\n",
       "      <td>1</td>\n",
       "      <td>2011-01-01</td>\n",
       "      <td>1</td>\n",
       "      <td>0</td>\n",
       "      <td>1</td>\n",
       "      <td>0</td>\n",
       "      <td>6</td>\n",
       "      <td>0</td>\n",
       "      <td>2</td>\n",
       "      <td>0.344167</td>\n",
       "      <td>0.363625</td>\n",
       "      <td>0.805833</td>\n",
       "      <td>0.160446</td>\n",
       "      <td>985</td>\n",
       "    </tr>\n",
       "    <tr>\n",
       "      <th>1</th>\n",
       "      <td>2</td>\n",
       "      <td>2011-01-02</td>\n",
       "      <td>1</td>\n",
       "      <td>0</td>\n",
       "      <td>1</td>\n",
       "      <td>0</td>\n",
       "      <td>0</td>\n",
       "      <td>0</td>\n",
       "      <td>2</td>\n",
       "      <td>0.363478</td>\n",
       "      <td>0.353739</td>\n",
       "      <td>0.696087</td>\n",
       "      <td>0.248539</td>\n",
       "      <td>801</td>\n",
       "    </tr>\n",
       "    <tr>\n",
       "      <th>2</th>\n",
       "      <td>3</td>\n",
       "      <td>2011-01-03</td>\n",
       "      <td>1</td>\n",
       "      <td>0</td>\n",
       "      <td>1</td>\n",
       "      <td>0</td>\n",
       "      <td>1</td>\n",
       "      <td>1</td>\n",
       "      <td>1</td>\n",
       "      <td>0.196364</td>\n",
       "      <td>0.189405</td>\n",
       "      <td>0.437273</td>\n",
       "      <td>0.248309</td>\n",
       "      <td>1349</td>\n",
       "    </tr>\n",
       "    <tr>\n",
       "      <th>3</th>\n",
       "      <td>4</td>\n",
       "      <td>2011-01-04</td>\n",
       "      <td>1</td>\n",
       "      <td>0</td>\n",
       "      <td>1</td>\n",
       "      <td>0</td>\n",
       "      <td>2</td>\n",
       "      <td>1</td>\n",
       "      <td>1</td>\n",
       "      <td>0.200000</td>\n",
       "      <td>0.212122</td>\n",
       "      <td>0.590435</td>\n",
       "      <td>0.160296</td>\n",
       "      <td>1562</td>\n",
       "    </tr>\n",
       "    <tr>\n",
       "      <th>4</th>\n",
       "      <td>5</td>\n",
       "      <td>2011-01-05</td>\n",
       "      <td>1</td>\n",
       "      <td>0</td>\n",
       "      <td>1</td>\n",
       "      <td>0</td>\n",
       "      <td>3</td>\n",
       "      <td>1</td>\n",
       "      <td>1</td>\n",
       "      <td>0.226957</td>\n",
       "      <td>0.229270</td>\n",
       "      <td>0.436957</td>\n",
       "      <td>0.186900</td>\n",
       "      <td>1600</td>\n",
       "    </tr>\n",
       "  </tbody>\n",
       "</table>\n",
       "</div>"
      ],
      "text/plain": [
       "   instant     dteday  season  yr  mnth  holiday  weekday  workingday  \\\n",
       "0        1 2011-01-01       1   0     1        0        6           0   \n",
       "1        2 2011-01-02       1   0     1        0        0           0   \n",
       "2        3 2011-01-03       1   0     1        0        1           1   \n",
       "3        4 2011-01-04       1   0     1        0        2           1   \n",
       "4        5 2011-01-05       1   0     1        0        3           1   \n",
       "\n",
       "   weathersit      temp     atemp       hum  windspeed  count  \n",
       "0           2  0.344167  0.363625  0.805833   0.160446    985  \n",
       "1           2  0.363478  0.353739  0.696087   0.248539    801  \n",
       "2           1  0.196364  0.189405  0.437273   0.248309   1349  \n",
       "3           1  0.200000  0.212122  0.590435   0.160296   1562  \n",
       "4           1  0.226957  0.229270  0.436957   0.186900   1600  "
      ]
     },
     "execution_count": 26,
     "metadata": {},
     "output_type": "execute_result"
    }
   ],
   "source": [
    "df_bikesharing = pd.read_excel('Bike_Sharing_day.xlsx', sheet_name=\"day\", engine='openpyxl')\n",
    "dummy=df_bikesharing\n",
    "dummy.head()"
   ]
  },
  {
   "cell_type": "code",
   "execution_count": 27,
   "metadata": {
    "ExecuteTime": {
     "end_time": "2021-04-17T06:27:07.685171Z",
     "start_time": "2021-04-17T06:27:07.672441Z"
    }
   },
   "outputs": [
    {
     "data": {
      "text/plain": [
       "'yy=np.reshape(y, (-1,1))\\n\\nfrom sklearn.preprocessing import MinMaxScaler\\nsscaler = MinMaxScaler()\\nX = sscaler.fit_transform(X)\\ny = sscaler.fit_transform(yy)'"
      ]
     },
     "execution_count": 27,
     "metadata": {},
     "output_type": "execute_result"
    }
   ],
   "source": [
    "df_features=dummy.drop('count', axis=1)\n",
    "df_features=df_features.drop('instant', axis=1)\n",
    "df_features=df_features.drop('dteday', axis=1)\n",
    "len(df_features)\n",
    "df_features.head(5)\n",
    "\n",
    "X = df_features\n",
    "y = dummy['count']\n",
    "\n",
    "\n",
    "\n",
    "##Run this if you want to scale the input and output \n",
    "\n",
    "'''yy=np.reshape(y, (-1,1))\n",
    "\n",
    "from sklearn.preprocessing import MinMaxScaler\n",
    "sscaler = MinMaxScaler()\n",
    "X = sscaler.fit_transform(X)\n",
    "y = sscaler.fit_transform(yy)'''"
   ]
  },
  {
   "cell_type": "code",
   "execution_count": 28,
   "metadata": {
    "ExecuteTime": {
     "end_time": "2021-04-17T06:27:07.917775Z",
     "start_time": "2021-04-17T06:27:07.896313Z"
    },
    "scrolled": true
   },
   "outputs": [
    {
     "data": {
      "text/html": [
       "<div>\n",
       "<style scoped>\n",
       "    .dataframe tbody tr th:only-of-type {\n",
       "        vertical-align: middle;\n",
       "    }\n",
       "\n",
       "    .dataframe tbody tr th {\n",
       "        vertical-align: top;\n",
       "    }\n",
       "\n",
       "    .dataframe thead th {\n",
       "        text-align: right;\n",
       "    }\n",
       "</style>\n",
       "<table border=\"1\" class=\"dataframe\">\n",
       "  <thead>\n",
       "    <tr style=\"text-align: right;\">\n",
       "      <th></th>\n",
       "      <th>season</th>\n",
       "      <th>yr</th>\n",
       "      <th>mnth</th>\n",
       "      <th>holiday</th>\n",
       "      <th>weekday</th>\n",
       "      <th>workingday</th>\n",
       "      <th>weathersit</th>\n",
       "      <th>temp</th>\n",
       "      <th>atemp</th>\n",
       "      <th>hum</th>\n",
       "      <th>windspeed</th>\n",
       "    </tr>\n",
       "  </thead>\n",
       "  <tbody>\n",
       "    <tr>\n",
       "      <th>0</th>\n",
       "      <td>1</td>\n",
       "      <td>0</td>\n",
       "      <td>1</td>\n",
       "      <td>0</td>\n",
       "      <td>6</td>\n",
       "      <td>0</td>\n",
       "      <td>2</td>\n",
       "      <td>0.344167</td>\n",
       "      <td>0.363625</td>\n",
       "      <td>0.805833</td>\n",
       "      <td>0.160446</td>\n",
       "    </tr>\n",
       "    <tr>\n",
       "      <th>1</th>\n",
       "      <td>1</td>\n",
       "      <td>0</td>\n",
       "      <td>1</td>\n",
       "      <td>0</td>\n",
       "      <td>0</td>\n",
       "      <td>0</td>\n",
       "      <td>2</td>\n",
       "      <td>0.363478</td>\n",
       "      <td>0.353739</td>\n",
       "      <td>0.696087</td>\n",
       "      <td>0.248539</td>\n",
       "    </tr>\n",
       "    <tr>\n",
       "      <th>2</th>\n",
       "      <td>1</td>\n",
       "      <td>0</td>\n",
       "      <td>1</td>\n",
       "      <td>0</td>\n",
       "      <td>1</td>\n",
       "      <td>1</td>\n",
       "      <td>1</td>\n",
       "      <td>0.196364</td>\n",
       "      <td>0.189405</td>\n",
       "      <td>0.437273</td>\n",
       "      <td>0.248309</td>\n",
       "    </tr>\n",
       "    <tr>\n",
       "      <th>3</th>\n",
       "      <td>1</td>\n",
       "      <td>0</td>\n",
       "      <td>1</td>\n",
       "      <td>0</td>\n",
       "      <td>2</td>\n",
       "      <td>1</td>\n",
       "      <td>1</td>\n",
       "      <td>0.200000</td>\n",
       "      <td>0.212122</td>\n",
       "      <td>0.590435</td>\n",
       "      <td>0.160296</td>\n",
       "    </tr>\n",
       "    <tr>\n",
       "      <th>4</th>\n",
       "      <td>1</td>\n",
       "      <td>0</td>\n",
       "      <td>1</td>\n",
       "      <td>0</td>\n",
       "      <td>3</td>\n",
       "      <td>1</td>\n",
       "      <td>1</td>\n",
       "      <td>0.226957</td>\n",
       "      <td>0.229270</td>\n",
       "      <td>0.436957</td>\n",
       "      <td>0.186900</td>\n",
       "    </tr>\n",
       "  </tbody>\n",
       "</table>\n",
       "</div>"
      ],
      "text/plain": [
       "   season  yr  mnth  holiday  weekday  workingday  weathersit      temp  \\\n",
       "0       1   0     1        0        6           0           2  0.344167   \n",
       "1       1   0     1        0        0           0           2  0.363478   \n",
       "2       1   0     1        0        1           1           1  0.196364   \n",
       "3       1   0     1        0        2           1           1  0.200000   \n",
       "4       1   0     1        0        3           1           1  0.226957   \n",
       "\n",
       "      atemp       hum  windspeed  \n",
       "0  0.363625  0.805833   0.160446  \n",
       "1  0.353739  0.696087   0.248539  \n",
       "2  0.189405  0.437273   0.248309  \n",
       "3  0.212122  0.590435   0.160296  \n",
       "4  0.229270  0.436957   0.186900  "
      ]
     },
     "execution_count": 28,
     "metadata": {},
     "output_type": "execute_result"
    }
   ],
   "source": [
    "X.head()"
   ]
  },
  {
   "cell_type": "code",
   "execution_count": 29,
   "metadata": {
    "ExecuteTime": {
     "end_time": "2021-04-17T06:27:08.097640Z",
     "start_time": "2021-04-17T06:27:08.092401Z"
    }
   },
   "outputs": [],
   "source": [
    "X.insert(loc=0, column='biased', value=1.0)"
   ]
  },
  {
   "cell_type": "code",
   "execution_count": 30,
   "metadata": {
    "ExecuteTime": {
     "end_time": "2021-04-17T06:27:08.360500Z",
     "start_time": "2021-04-17T06:27:08.332454Z"
    },
    "scrolled": false
   },
   "outputs": [
    {
     "data": {
      "text/html": [
       "<div>\n",
       "<style scoped>\n",
       "    .dataframe tbody tr th:only-of-type {\n",
       "        vertical-align: middle;\n",
       "    }\n",
       "\n",
       "    .dataframe tbody tr th {\n",
       "        vertical-align: top;\n",
       "    }\n",
       "\n",
       "    .dataframe thead th {\n",
       "        text-align: right;\n",
       "    }\n",
       "</style>\n",
       "<table border=\"1\" class=\"dataframe\">\n",
       "  <thead>\n",
       "    <tr style=\"text-align: right;\">\n",
       "      <th></th>\n",
       "      <th>biased</th>\n",
       "      <th>season</th>\n",
       "      <th>yr</th>\n",
       "      <th>mnth</th>\n",
       "      <th>holiday</th>\n",
       "      <th>weekday</th>\n",
       "      <th>workingday</th>\n",
       "      <th>weathersit</th>\n",
       "      <th>temp</th>\n",
       "      <th>atemp</th>\n",
       "      <th>hum</th>\n",
       "      <th>windspeed</th>\n",
       "    </tr>\n",
       "  </thead>\n",
       "  <tbody>\n",
       "    <tr>\n",
       "      <th>0</th>\n",
       "      <td>1.0</td>\n",
       "      <td>1</td>\n",
       "      <td>0</td>\n",
       "      <td>1</td>\n",
       "      <td>0</td>\n",
       "      <td>6</td>\n",
       "      <td>0</td>\n",
       "      <td>2</td>\n",
       "      <td>0.344167</td>\n",
       "      <td>0.363625</td>\n",
       "      <td>0.805833</td>\n",
       "      <td>0.160446</td>\n",
       "    </tr>\n",
       "    <tr>\n",
       "      <th>1</th>\n",
       "      <td>1.0</td>\n",
       "      <td>1</td>\n",
       "      <td>0</td>\n",
       "      <td>1</td>\n",
       "      <td>0</td>\n",
       "      <td>0</td>\n",
       "      <td>0</td>\n",
       "      <td>2</td>\n",
       "      <td>0.363478</td>\n",
       "      <td>0.353739</td>\n",
       "      <td>0.696087</td>\n",
       "      <td>0.248539</td>\n",
       "    </tr>\n",
       "    <tr>\n",
       "      <th>2</th>\n",
       "      <td>1.0</td>\n",
       "      <td>1</td>\n",
       "      <td>0</td>\n",
       "      <td>1</td>\n",
       "      <td>0</td>\n",
       "      <td>1</td>\n",
       "      <td>1</td>\n",
       "      <td>1</td>\n",
       "      <td>0.196364</td>\n",
       "      <td>0.189405</td>\n",
       "      <td>0.437273</td>\n",
       "      <td>0.248309</td>\n",
       "    </tr>\n",
       "    <tr>\n",
       "      <th>3</th>\n",
       "      <td>1.0</td>\n",
       "      <td>1</td>\n",
       "      <td>0</td>\n",
       "      <td>1</td>\n",
       "      <td>0</td>\n",
       "      <td>2</td>\n",
       "      <td>1</td>\n",
       "      <td>1</td>\n",
       "      <td>0.200000</td>\n",
       "      <td>0.212122</td>\n",
       "      <td>0.590435</td>\n",
       "      <td>0.160296</td>\n",
       "    </tr>\n",
       "    <tr>\n",
       "      <th>4</th>\n",
       "      <td>1.0</td>\n",
       "      <td>1</td>\n",
       "      <td>0</td>\n",
       "      <td>1</td>\n",
       "      <td>0</td>\n",
       "      <td>3</td>\n",
       "      <td>1</td>\n",
       "      <td>1</td>\n",
       "      <td>0.226957</td>\n",
       "      <td>0.229270</td>\n",
       "      <td>0.436957</td>\n",
       "      <td>0.186900</td>\n",
       "    </tr>\n",
       "  </tbody>\n",
       "</table>\n",
       "</div>"
      ],
      "text/plain": [
       "   biased  season  yr  mnth  holiday  weekday  workingday  weathersit  \\\n",
       "0     1.0       1   0     1        0        6           0           2   \n",
       "1     1.0       1   0     1        0        0           0           2   \n",
       "2     1.0       1   0     1        0        1           1           1   \n",
       "3     1.0       1   0     1        0        2           1           1   \n",
       "4     1.0       1   0     1        0        3           1           1   \n",
       "\n",
       "       temp     atemp       hum  windspeed  \n",
       "0  0.344167  0.363625  0.805833   0.160446  \n",
       "1  0.363478  0.353739  0.696087   0.248539  \n",
       "2  0.196364  0.189405  0.437273   0.248309  \n",
       "3  0.200000  0.212122  0.590435   0.160296  \n",
       "4  0.226957  0.229270  0.436957   0.186900  "
      ]
     },
     "execution_count": 30,
     "metadata": {},
     "output_type": "execute_result"
    }
   ],
   "source": [
    "X.head()"
   ]
  },
  {
   "cell_type": "markdown",
   "metadata": {},
   "source": [
    "### Important stroke: Scale the output!"
   ]
  },
  {
   "cell_type": "code",
   "execution_count": 31,
   "metadata": {
    "ExecuteTime": {
     "end_time": "2021-04-17T06:27:08.918396Z",
     "start_time": "2021-04-17T06:27:08.913608Z"
    }
   },
   "outputs": [],
   "source": [
    "y_highest = y.max()"
   ]
  },
  {
   "cell_type": "code",
   "execution_count": 32,
   "metadata": {
    "ExecuteTime": {
     "end_time": "2021-04-17T06:27:09.205522Z",
     "start_time": "2021-04-17T06:27:09.199772Z"
    }
   },
   "outputs": [],
   "source": [
    "y=y/y.max()"
   ]
  },
  {
   "cell_type": "code",
   "execution_count": 33,
   "metadata": {
    "ExecuteTime": {
     "end_time": "2021-04-17T06:27:09.655962Z",
     "start_time": "2021-04-17T06:27:09.645706Z"
    }
   },
   "outputs": [],
   "source": [
    "from sklearn.model_selection import train_test_split \n",
    "X_train, X_test, y_train, y_test = train_test_split(X, y, test_size = 0.25, random_state = 1 )"
   ]
  },
  {
   "cell_type": "code",
   "execution_count": 34,
   "metadata": {
    "ExecuteTime": {
     "end_time": "2021-04-17T06:27:10.190423Z",
     "start_time": "2021-04-17T06:27:10.185793Z"
    }
   },
   "outputs": [],
   "source": [
    "y_train=np.array(y_train, ndmin=2).T"
   ]
  },
  {
   "cell_type": "code",
   "execution_count": 35,
   "metadata": {
    "ExecuteTime": {
     "end_time": "2021-04-17T06:27:10.370530Z",
     "start_time": "2021-04-17T06:27:10.364024Z"
    }
   },
   "outputs": [
    {
     "data": {
      "text/plain": [
       "548"
      ]
     },
     "execution_count": 35,
     "metadata": {},
     "output_type": "execute_result"
    }
   ],
   "source": [
    "len(y_train)"
   ]
  },
  {
   "cell_type": "code",
   "execution_count": 36,
   "metadata": {
    "ExecuteTime": {
     "end_time": "2021-04-17T06:27:10.931506Z",
     "start_time": "2021-04-17T06:27:10.925930Z"
    }
   },
   "outputs": [],
   "source": [
    "X=X_train.values\n",
    "y=y_train\n",
    "\n",
    "no_inputs=len(X[0])"
   ]
  },
  {
   "cell_type": "markdown",
   "metadata": {},
   "source": [
    "## Train"
   ]
  },
  {
   "cell_type": "code",
   "execution_count": 37,
   "metadata": {
    "ExecuteTime": {
     "end_time": "2021-04-17T06:27:11.744569Z",
     "start_time": "2021-04-17T06:27:11.740063Z"
    }
   },
   "outputs": [],
   "source": [
    "gamma1=.01 #input to hidden bigger\n",
    "gamma2=.001 #Hidden to Output smaller"
   ]
  },
  {
   "cell_type": "code",
   "execution_count": null,
   "metadata": {
    "ExecuteTime": {
     "start_time": "2021-04-17T06:27:59.992Z"
    }
   },
   "outputs": [
    {
     "name": "stdout",
     "output_type": "stream",
     "text": [
      "Train Error = 0.26458555698376407 valid metric = -145.09934401677668\n",
      "Train Error = 0.05916000502189487 valid metric = 0.8084579277737134\n"
     ]
    }
   ],
   "source": [
    "np.random.seed(42)\n",
    "\n",
    "nn = neural_net()\n",
    "nn.add_input_layer(no_inputs) # input layer\n",
    "nn.add_layer(8, activation='sigmoid', learning_rate=0.01)\n",
    "nn.add_layer(9, activation='sigmoid', learning_rate=0.01)\n",
    "nn.add_layer(1, activation='sigmoid2', learning_rate=0.001) # output layer\n",
    "\n",
    "# errors printed by verbose has a bug\n",
    "nn.fit(X_train, y_train, X_test.values, y_test, train_iter=200000, metric='r2', verbose=True)"
   ]
  },
  {
   "cell_type": "code",
   "execution_count": null,
   "metadata": {
    "ExecuteTime": {
     "start_time": "2021-04-17T06:28:01.761Z"
    }
   },
   "outputs": [],
   "source": [
    "plt.plot(nn.errors, label='training error')\n",
    "plt.plot(nn.metric, label='r2')"
   ]
  },
  {
   "cell_type": "code",
   "execution_count": null,
   "metadata": {
    "ExecuteTime": {
     "start_time": "2021-04-17T06:28:01.956Z"
    }
   },
   "outputs": [],
   "source": [
    "y_pred = nn.predict(X_test)\n",
    "r2_score(y_pred, y_test) "
   ]
  },
  {
   "cell_type": "code",
   "execution_count": null,
   "metadata": {
    "ExecuteTime": {
     "start_time": "2021-04-17T06:28:02.974Z"
    }
   },
   "outputs": [],
   "source": [
    "fig = plt.figure(figsize=(15, 10))\n",
    "plt.scatter(y_highest*y_pred,y_highest*y_test, c=\"r\", label=\"test (actual) data\")\n",
    "print(\"R2 score = %f\"%r2_score(y_highest*y_pred, y_highest*y_test))"
   ]
  },
  {
   "cell_type": "markdown",
   "metadata": {},
   "source": [
    "## Hyperparameter search"
   ]
  },
  {
   "cell_type": "code",
   "execution_count": 43,
   "metadata": {
    "ExecuteTime": {
     "end_time": "2021-04-17T05:57:39.277219Z",
     "start_time": "2021-04-17T05:57:39.254094Z"
    }
   },
   "outputs": [
    {
     "data": {
      "text/html": [
       "<div>\n",
       "<style scoped>\n",
       "    .dataframe tbody tr th:only-of-type {\n",
       "        vertical-align: middle;\n",
       "    }\n",
       "\n",
       "    .dataframe tbody tr th {\n",
       "        vertical-align: top;\n",
       "    }\n",
       "\n",
       "    .dataframe thead th {\n",
       "        text-align: right;\n",
       "    }\n",
       "</style>\n",
       "<table border=\"1\" class=\"dataframe\">\n",
       "  <thead>\n",
       "    <tr style=\"text-align: right;\">\n",
       "      <th></th>\n",
       "      <th>num_nodes</th>\n",
       "      <th>num_hid_layer</th>\n",
       "    </tr>\n",
       "  </thead>\n",
       "  <tbody>\n",
       "    <tr>\n",
       "      <th>0</th>\n",
       "      <td>(4,)</td>\n",
       "      <td>1</td>\n",
       "    </tr>\n",
       "    <tr>\n",
       "      <th>1</th>\n",
       "      <td>(6,)</td>\n",
       "      <td>1</td>\n",
       "    </tr>\n",
       "  </tbody>\n",
       "</table>\n",
       "</div>"
      ],
      "text/plain": [
       "  num_nodes  num_hid_layer\n",
       "0      (4,)              1\n",
       "1      (6,)              1"
      ]
     },
     "execution_count": 43,
     "metadata": {},
     "output_type": "execute_result"
    }
   ],
   "source": [
    "import itertools as it\n",
    "import pandas as pd\n",
    "import matplotlib.pyplot as plt\n",
    "\n",
    "#create df of possible combinations of nodes\n",
    "nodes = [4, 6]\n",
    "df_combs = pd.DataFrame()\n",
    "for num_hid_layer in [1]:\n",
    "    df_layer_node = pd.DataFrame()\n",
    "    num_nodes = list(it.product(nodes, repeat=num_hid_layer)) \n",
    "    df_layer_node['num_nodes'] = num_nodes\n",
    "    df_layer_node['num_hid_layer'] = num_hid_layer\n",
    "        \n",
    "    df_combs = pd.concat([df_combs, df_layer_node])\n",
    "df_combs.reset_index(drop=True, inplace=True)\n",
    "df_combs"
   ]
  },
  {
   "cell_type": "code",
   "execution_count": 41,
   "metadata": {
    "ExecuteTime": {
     "end_time": "2021-04-17T05:57:34.152881Z",
     "start_time": "2021-04-17T05:57:32.995689Z"
    }
   },
   "outputs": [
    {
     "name": "stdout",
     "output_type": "stream",
     "text": [
      "combination 0\n",
      "validation metric -1.5988174199661205\n",
      "combination 1\n",
      "validation metric -0.21897986034185046\n"
     ]
    }
   ],
   "source": [
    "#iterate over df to feed in NN\n",
    "\n",
    "# logs = {'labels':[], 'errors':[], 'metric_valid':[], 'final_error':[], 'final_metric':[]}\n",
    "logs = {'labels':[], 'final_metric':[]}\n",
    "k = 0\n",
    "\n",
    "for index, row in df_combs.iterrows():\n",
    "    print('combination', index)\n",
    "    \n",
    "    num_hidden = row.values[1]\n",
    "    num_nodes = np.array([row.values[0]]).flatten()\n",
    "\n",
    "    nn = neural_net()\n",
    "    nn.add_input_layer(no_inputs) # input\n",
    "    \n",
    "    for i in range(num_hidden):\n",
    "        nn.add_layer(num_nodes=num_nodes[i], activation='sigmoid', learning_rate=0.01)\n",
    "        \n",
    "    nn.add_layer(1, activation='sigmoid2', learning_rate=0.001) # output\n",
    "\n",
    "    np.random.seed(42)\n",
    "    nn.fit(X_train, y_train, X_test.values, y_test, train_iter=200000, metric='r2', verbose=False)    \n",
    "    \n",
    "    label = f\"num hidden layers: {df_combs['num_hid_layer'].iloc[k]} num nodes: {df_combs['num_nodes'].iloc[k]}\"\n",
    "    k += 1\n",
    "    \n",
    "    logs['labels'] += [label]\n",
    "#     logs['errors'] += [nn.errors]\n",
    "#     logs['metric_valid'] += [nn.metric]   \n",
    "#     logs['final_error'] += [nn.errors[-1]]\n",
    "\n",
    "    y_pred = nn.predict(X_test)\n",
    "    metric = r2_score(y_pred, y_test) \n",
    "    logs['final_metric'] += [metric]    \n",
    "    print('validation metric', metric)"
   ]
  },
  {
   "cell_type": "code",
   "execution_count": 42,
   "metadata": {
    "ExecuteTime": {
     "end_time": "2021-04-17T05:57:35.869628Z",
     "start_time": "2021-04-17T05:57:35.851978Z"
    }
   },
   "outputs": [
    {
     "data": {
      "text/html": [
       "<div>\n",
       "<style scoped>\n",
       "    .dataframe tbody tr th:only-of-type {\n",
       "        vertical-align: middle;\n",
       "    }\n",
       "\n",
       "    .dataframe tbody tr th {\n",
       "        vertical-align: top;\n",
       "    }\n",
       "\n",
       "    .dataframe thead th {\n",
       "        text-align: right;\n",
       "    }\n",
       "</style>\n",
       "<table border=\"1\" class=\"dataframe\">\n",
       "  <thead>\n",
       "    <tr style=\"text-align: right;\">\n",
       "      <th></th>\n",
       "      <th>labels</th>\n",
       "      <th>final_metric</th>\n",
       "    </tr>\n",
       "  </thead>\n",
       "  <tbody>\n",
       "    <tr>\n",
       "      <th>0</th>\n",
       "      <td>num hidden layers: 1 num nodes: (4,)</td>\n",
       "      <td>-1.598817</td>\n",
       "    </tr>\n",
       "    <tr>\n",
       "      <th>1</th>\n",
       "      <td>num hidden layers: 1 num nodes: (6,)</td>\n",
       "      <td>-0.218980</td>\n",
       "    </tr>\n",
       "  </tbody>\n",
       "</table>\n",
       "</div>"
      ],
      "text/plain": [
       "                                 labels  final_metric\n",
       "0  num hidden layers: 1 num nodes: (4,)     -1.598817\n",
       "1  num hidden layers: 1 num nodes: (6,)     -0.218980"
      ]
     },
     "execution_count": 42,
     "metadata": {},
     "output_type": "execute_result"
    }
   ],
   "source": [
    "data = pd.DataFrame.from_dict(logs) # convert dictionary to dataframe\n",
    "data"
   ]
  },
  {
   "cell_type": "code",
   "execution_count": 44,
   "metadata": {
    "ExecuteTime": {
     "end_time": "2021-04-17T05:57:42.687855Z",
     "start_time": "2021-04-17T05:57:42.502253Z"
    }
   },
   "outputs": [
    {
     "name": "stdout",
     "output_type": "stream",
     "text": [
      "R2 score = -0.218980\n"
     ]
    },
    {
     "data": {
      "image/png": "[encoded data removed]",
      "text/plain": [
       "<Figure size 1080x720 with 1 Axes>"
      ]
     },
     "metadata": {
      "needs_background": "light"
     },
     "output_type": "display_data"
    }
   ],
   "source": [
    "y_pred = nn.predict(X_test)\n",
    "r2_score(y_pred, y_test) \n",
    "\n",
    "fig = plt.figure(figsize=(15, 10))\n",
    "plt.scatter(y_highest*y_pred,y_highest*y_test, c=\"r\", label=\"test (actual) data\")\n",
    "print(\"R2 score = %f\"%r2_score(y_highest*y_pred, y_highest*y_test))\n",
    "#print(accuracy_score(y_pred_LR,y_test))"
   ]
  },
  {
   "cell_type": "code",
   "execution_count": null,
   "metadata": {},
   "outputs": [],
   "source": []
  }
 ],
 "metadata": {
  "kernelspec": {
   "display_name": "Python 3",
   "language": "python",
   "name": "python3"
  },
  "language_info": {
   "codemirror_mode": {
    "name": "ipython",
    "version": 3
   },
   "file_extension": ".py",
   "mimetype": "text/x-python",
   "name": "python",
   "nbconvert_exporter": "python",
   "pygments_lexer": "ipython3",
   "version": "3.8.8"
  }
 },
 "nbformat": 4,
 "nbformat_minor": 2
}
